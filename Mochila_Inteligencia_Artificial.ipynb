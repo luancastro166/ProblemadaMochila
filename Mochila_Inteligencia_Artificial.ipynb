{
  "nbformat": 4,
  "nbformat_minor": 0,
  "metadata": {
    "colab": {
      "name": "Mochila_Inteligencia-Artificial.ipynb",
      "provenance": [],
      "authorship_tag": "ABX9TyM2/o9oQIV7kbg369roBBcp",
      "include_colab_link": true
    },
    "kernelspec": {
      "name": "python3",
      "display_name": "Python 3"
    },
    "language_info": {
      "name": "python"
    }
  },
  "cells": [
    {
      "cell_type": "markdown",
      "metadata": {
        "id": "view-in-github",
        "colab_type": "text"
      },
      "source": [
        "<a href=\"https://colab.research.google.com/github/luancastro166/ProblemadaMochila/blob/main/Mochila_Inteligencia_Artificial.ipynb\" target=\"_parent\"><img src=\"https://colab.research.google.com/assets/colab-badge.svg\" alt=\"Open In Colab\"/></a>"
      ]
    },
    {
      "cell_type": "code",
      "metadata": {
        "colab": {
          "base_uri": "https://localhost:8080/"
        },
        "id": "OItA2veYibn2",
        "outputId": "49c04840-3637-4ce8-f462-b3d48ffe728f"
      },
      "source": [
        "pip install deap"
      ],
      "execution_count": null,
      "outputs": [
        {
          "output_type": "stream",
          "text": [
            "Collecting deap\n",
            "\u001b[?25l  Downloading https://files.pythonhosted.org/packages/99/d1/803c7a387d8a7e6866160b1541307f88d534da4291572fb32f69d2548afb/deap-1.3.1-cp37-cp37m-manylinux2010_x86_64.whl (157kB)\n",
            "\r\u001b[K     |██                              | 10kB 14.1MB/s eta 0:00:01\r\u001b[K     |████▏                           | 20kB 11.7MB/s eta 0:00:01\r\u001b[K     |██████▏                         | 30kB 6.5MB/s eta 0:00:01\r\u001b[K     |████████▎                       | 40kB 3.4MB/s eta 0:00:01\r\u001b[K     |██████████▍                     | 51kB 4.1MB/s eta 0:00:01\r\u001b[K     |████████████▍                   | 61kB 4.2MB/s eta 0:00:01\r\u001b[K     |██████████████▌                 | 71kB 4.3MB/s eta 0:00:01\r\u001b[K     |████████████████▋               | 81kB 4.8MB/s eta 0:00:01\r\u001b[K     |██████████████████▋             | 92kB 5.1MB/s eta 0:00:01\r\u001b[K     |████████████████████▊           | 102kB 4.8MB/s eta 0:00:01\r\u001b[K     |██████████████████████▉         | 112kB 4.8MB/s eta 0:00:01\r\u001b[K     |████████████████████████▉       | 122kB 4.8MB/s eta 0:00:01\r\u001b[K     |███████████████████████████     | 133kB 4.8MB/s eta 0:00:01\r\u001b[K     |█████████████████████████████   | 143kB 4.8MB/s eta 0:00:01\r\u001b[K     |███████████████████████████████ | 153kB 4.8MB/s eta 0:00:01\r\u001b[K     |████████████████████████████████| 163kB 4.8MB/s \n",
            "\u001b[?25hRequirement already satisfied: numpy in /usr/local/lib/python3.7/dist-packages (from deap) (1.19.5)\n",
            "Installing collected packages: deap\n",
            "Successfully installed deap-1.3.1\n"
          ],
          "name": "stdout"
        }
      ]
    },
    {
      "cell_type": "code",
      "metadata": {
        "colab": {
          "base_uri": "https://localhost:8080/"
        },
        "id": "o0j6jVF1kgb4",
        "outputId": "08a226e5-b7a7-455f-b7e3-cfa9c7a8888c"
      },
      "source": [
        "#Imports Nescessários\n",
        "import random #Gerar valores aleatorios.\n",
        "import numpy #Realizar cálculos em Arrays Multidimensionais.\n",
        "\n",
        "from deap import creator, base, tools, algorithms\n",
        "\n",
        "#Variaveis\n",
        "Tamanho = 5\n",
        "Maximo_de_Items = 50\n",
        "Peso_Maximo = 50\n",
        "Items = 20\n",
        "\n",
        "#Aumentar a aleatoriedade do número gerado\n",
        "random.seed(64)\n",
        "\n",
        "#Lista de Itens\n",
        "items = {}\n",
        "# Dicionário de 100 itens aleatórios para mapear os valores e pesos\n",
        "for i in range(Items):\n",
        "    items[i] = (random.randint(1, 10), random.uniform(0, 100))\n",
        "\n",
        "\n",
        "# Criando indivíduos herdando da setclasse.\n",
        "creator.create(\"FitnessMax\", base.Fitness, weights=(1.0,))\n",
        "creator.create(\"Individual\", set, fitness=creator.FitnessMax)\n",
        "\n",
        "# Registrar geradores\n",
        "toolbox = base.Toolbox()\n",
        "toolbox.register(\"attr_item\", random.randrange, Items)\n",
        "toolbox.register(\"individual\", tools.initRepeat, creator.Individual, toolbox.attr_item, Tamanho)\n",
        "toolbox.register(\"population\", tools.initRepeat, list, toolbox.individual)\n",
        "\n",
        "#Definindo função de avaliação\n",
        "def evalKnapsack(individual):\n",
        "    peso = 0.0\n",
        "    valor = 0.0\n",
        "    for item in individual:\n",
        "        peso += items[item][0]\n",
        "        valor += items[item][1]\n",
        "    if len(individual) > Maximo_de_Items or peso > Peso_Maximo:\n",
        "        return 10000, 0             # Verificar se esta com exesso de peso\n",
        "    return peso, valor\n",
        "\n",
        "#Produzindo dois filhos de dois pais para serem aplicados no conjunto\n",
        "#Onde o O primeiro filho é o intersecção dos dois conjuntos, o segundo filho é a diferença do dois conjuntos\n",
        "def cxSet(ind1, ind2):\n",
        "    temp = set(ind1)                \n",
        "    ind1 &= ind2                    \n",
        "    ind2 ^= temp                    \n",
        "    return ind1, ind2\n",
        "    \n",
        "#Um operador de mutação pode adicionar ou remover aleatoriamente um elemento do conjunto de entrada individual.\n",
        "def mutSet(individual):\n",
        "    if random.random() < 0.5:\n",
        "        if len(individual) > 0:     # We cannot pop from an empty set\n",
        "            individual.remove(random.choice(sorted(tuple(individual))))\n",
        "    else:\n",
        "        individual.add(random.randrange(Items))\n",
        "    return individual,\n",
        "\n",
        "#Registrar operadores na caixa de ferramentas.\n",
        "toolbox.register(\"evaluate\", evalKnapsack)\n",
        "toolbox.register(\"mate\", cxSet)\n",
        "toolbox.register(\"mutate\", mutSet)\n",
        "toolbox.register(\"select\", tools.selNSGA2)\n",
        "\n",
        "def main():\n",
        "    random.seed(64)\n",
        "    Quant_de_linhas = 50\n",
        "    N_Inicio = 50\n",
        "    Lamb = 100\n",
        "    CXPB = 0.7\n",
        "    MUTPB = 0.2\n",
        "    \n",
        "    pop = toolbox.population(n=N_Inicio)\n",
        "    hof = tools.ParetoFront() #usado para recuperar os melhores indivíduos não dominados da evolução\n",
        "    stats = tools.Statistics(lambda ind: ind.fitness.values) #criado para compilar quatro estatísticas diferentes ao longo das gerações.\n",
        "    stats.register(\"avg\", numpy.mean, axis=0)\n",
        "    stats.register(\"std\", numpy.std, axis=0)\n",
        "    stats.register(\"min\", numpy.min, axis=0)\n",
        "    stats.register(\"max\", numpy.max, axis=0)\n",
        "    \n",
        "    algorithms.eaMuPlusLambda(pop, toolbox, N_Inicio, Lamb, CXPB, MUTPB, Quant_de_linhas, stats, halloffame=hof)\n",
        "    \n",
        "    return pop, stats, hof\n",
        "                 \n",
        "if __name__ == \"__main__\":\n",
        "    main()                 "
      ],
      "execution_count": null,
      "outputs": [
        {
          "output_type": "stream",
          "text": [
            "/usr/local/lib/python3.7/dist-packages/deap/creator.py:141: RuntimeWarning: A class named 'FitnessMax' has already been created and it will be overwritten. Consider deleting previous creation of that class or rename it.\n",
            "  RuntimeWarning)\n",
            "/usr/local/lib/python3.7/dist-packages/deap/creator.py:141: RuntimeWarning: A class named 'Individual' has already been created and it will be overwritten. Consider deleting previous creation of that class or rename it.\n",
            "  RuntimeWarning)\n"
          ],
          "name": "stderr"
        },
        {
          "output_type": "stream",
          "text": [
            "gen\tnevals\tavg    \tstd         \tmin  \tmax  \n",
            "0  \t50    \t[22.78]\t[5.88316241]\t[10.]\t[38.]\n",
            "1  \t87    \t[27.14]\t[4.64331778]\t[21.]\t[45.]\n",
            "2  \t90    \t[30.12]\t[4.62012987]\t[26.]\t[45.]\n",
            "3  \t91    \t[33.36]\t[4.88573434]\t[27.]\t[45.]\n",
            "4  \t89    \t[235.42]\t[1394.944588]\t[32.]\t[10000.]\n",
            "5  \t87    \t[437.]  \t[1952.04136227]\t[34.]\t[10000.]\n",
            "6  \t83    \t[439.16]\t[1951.5989174] \t[38.]\t[10000.]\n",
            "7  \t90    \t[440.78]\t[1951.2688107] \t[41.]\t[10000.]\n",
            "8  \t91    \t[840.12]\t[2701.1023871] \t[42.]\t[10000.]\n",
            "9  \t87    \t[2036.32]\t[3981.84078758]\t[42.]\t[10000.]\n",
            "10 \t92    \t[3232.52]\t[4642.45309827]\t[46.]\t[10000.]\n",
            "11 \t92    \t[6616.74]\t[4713.76453722]\t[48.]\t[10000.]\n",
            "12 \t91    \t[10000.] \t[0.]           \t[10000.]\t[10000.]\n",
            "13 \t90    \t[10000.] \t[0.]           \t[10000.]\t[10000.]\n",
            "14 \t86    \t[10000.] \t[0.]           \t[10000.]\t[10000.]\n",
            "15 \t89    \t[10000.] \t[0.]           \t[10000.]\t[10000.]\n",
            "16 \t87    \t[10000.] \t[0.]           \t[10000.]\t[10000.]\n",
            "17 \t89    \t[10000.] \t[0.]           \t[10000.]\t[10000.]\n",
            "18 \t87    \t[10000.] \t[0.]           \t[10000.]\t[10000.]\n",
            "19 \t89    \t[10000.] \t[0.]           \t[10000.]\t[10000.]\n",
            "20 \t86    \t[10000.] \t[0.]           \t[10000.]\t[10000.]\n",
            "21 \t89    \t[10000.] \t[0.]           \t[10000.]\t[10000.]\n",
            "22 \t93    \t[10000.] \t[0.]           \t[10000.]\t[10000.]\n",
            "23 \t86    \t[10000.] \t[0.]           \t[10000.]\t[10000.]\n",
            "24 \t90    \t[10000.] \t[0.]           \t[10000.]\t[10000.]\n",
            "25 \t86    \t[10000.] \t[0.]           \t[10000.]\t[10000.]\n",
            "26 \t92    \t[10000.] \t[0.]           \t[10000.]\t[10000.]\n",
            "27 \t85    \t[10000.] \t[0.]           \t[10000.]\t[10000.]\n",
            "28 \t95    \t[10000.] \t[0.]           \t[10000.]\t[10000.]\n",
            "29 \t91    \t[10000.] \t[0.]           \t[10000.]\t[10000.]\n",
            "30 \t94    \t[10000.] \t[0.]           \t[10000.]\t[10000.]\n",
            "31 \t85    \t[10000.] \t[0.]           \t[10000.]\t[10000.]\n",
            "32 \t83    \t[10000.] \t[0.]           \t[10000.]\t[10000.]\n",
            "33 \t93    \t[10000.] \t[0.]           \t[10000.]\t[10000.]\n",
            "34 \t87    \t[10000.] \t[0.]           \t[10000.]\t[10000.]\n",
            "35 \t93    \t[10000.] \t[0.]           \t[10000.]\t[10000.]\n",
            "36 \t90    \t[10000.] \t[0.]           \t[10000.]\t[10000.]\n",
            "37 \t86    \t[10000.] \t[0.]           \t[10000.]\t[10000.]\n",
            "38 \t89    \t[10000.] \t[0.]           \t[10000.]\t[10000.]\n",
            "39 \t93    \t[10000.] \t[0.]           \t[10000.]\t[10000.]\n",
            "40 \t94    \t[10000.] \t[0.]           \t[10000.]\t[10000.]\n",
            "41 \t90    \t[10000.] \t[0.]           \t[10000.]\t[10000.]\n",
            "42 \t90    \t[10000.] \t[0.]           \t[10000.]\t[10000.]\n",
            "43 \t90    \t[10000.] \t[0.]           \t[10000.]\t[10000.]\n",
            "44 \t86    \t[10000.] \t[0.]           \t[10000.]\t[10000.]\n",
            "45 \t90    \t[10000.] \t[0.]           \t[10000.]\t[10000.]\n",
            "46 \t90    \t[10000.] \t[0.]           \t[10000.]\t[10000.]\n",
            "47 \t84    \t[10000.] \t[0.]           \t[10000.]\t[10000.]\n",
            "48 \t92    \t[10000.] \t[0.]           \t[10000.]\t[10000.]\n",
            "49 \t87    \t[10000.] \t[0.]           \t[10000.]\t[10000.]\n",
            "50 \t91    \t[10000.] \t[0.]           \t[10000.]\t[10000.]\n"
          ],
          "name": "stdout"
        }
      ]
    }
  ]
}